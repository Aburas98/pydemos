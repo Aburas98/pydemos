{
 "cells": [
  {
   "cell_type": "code",
   "execution_count": 1,
   "metadata": {},
   "outputs": [],
   "source": [
    "# we will only need numpy library to implement\n",
    "import numpy as np"
   ]
  },
  {
   "cell_type": "code",
   "execution_count": 2,
   "metadata": {},
   "outputs": [],
   "source": [
    "#generate a dummy dataset\n",
    "X = np.random.randint(10,50,100).reshape(20,5)\n",
    "# print(X)\n",
    "# mean centering the data\n",
    "X_meaned = X - np.mean(X, axis = 0)\n",
    "# print(X_meaned)"
   ]
  },
  {
   "cell_type": "code",
   "execution_count": 3,
   "metadata": {},
   "outputs": [],
   "source": [
    "# calculate the covariance matrix of the mean-centered data\n",
    "# here 'rowvar' is set to False, to indicate that each\n",
    "# column IS a variable, and not each row which is the default value\n",
    "cov_mat = np.cov(X_meaned, rowvar = False)\n",
    "#print(cov_mat)"
   ]
  },
  {
   "cell_type": "code",
   "execution_count": 4,
   "metadata": {},
   "outputs": [],
   "source": [
    "# calculating eigenvalues and eigenvectors of cpv_mat\n",
    "eigen_val, eigen_vec = np.linalg.eigh(cov_mat)\n",
    "# print(eigen_val)\n",
    "# print(eigen_vec)"
   ]
  },
  {
   "cell_type": "code",
   "execution_count": 5,
   "metadata": {},
   "outputs": [],
   "source": [
    "# sort eigenvalues in a descending order, argsort returns an\n",
    "# array of indices of the same shape\n",
    "sorted_index = np.argsort(eigen_val)[::-1]\n",
    "sorted_eigenval = eigen_val[sorted_index]\n",
    "# sort eigenvectors based on their repective eignvalues orders\n",
    "sorted_eigenvec = eigen_vec[:,sorted_index]\n",
    "# print(sorted_eigenvec)"
   ]
  },
  {
   "cell_type": "code",
   "execution_count": 6,
   "metadata": {},
   "outputs": [],
   "source": [
    "# slecect the fist n eigenvectors, n is the desired dimension\n",
    "# of our reduced data, you can select any number of n\n",
    "\n",
    "n_components = 2 # we choose 2 here for example\n",
    "eigenvec_subset = sorted_eigenvec[:,0:n_components]"
   ]
  },
  {
   "cell_type": "code",
   "execution_count": 7,
   "metadata": {},
   "outputs": [
    {
     "name": "stdout",
     "output_type": "stream",
     "text": [
      "(5, 2)\n",
      "(20, 5)\n"
     ]
    }
   ],
   "source": [
    "print(eigenvec_subset.shape)\n",
    "print(X_meaned.shape)"
   ]
  },
  {
   "cell_type": "code",
   "execution_count": 8,
   "metadata": {},
   "outputs": [
    {
     "name": "stdout",
     "output_type": "stream",
     "text": [
      "(20, 2)\n"
     ]
    }
   ],
   "source": [
    "# Before transforming the data, we need to make sure\n",
    "# dimensions are aligned. So we transpose the eigenvectors\n",
    "# subset matrix and the mean-centered data matrix and take the dot\n",
    "# product of the two matrices. Then, we take the transpose of the\n",
    "# output matrix so we have the dimension (20, 2), \n",
    "# which indicates 20 examples and 2 principal components. \n",
    "X_reduced = np.dot(eigenvec_subset.transpose(),X_meaned.transpose()).transpose()\n",
    "print(X_reduced.shape)\n"
   ]
  },
  {
   "cell_type": "markdown",
   "metadata": {},
   "source": [
    "## PCA function defintion (6 steps)\n",
    "Now, it's time to define a function, using only numpy library, to reuse on real-life applications of dimensionality reduction.\n",
    "\n",
    "The function takes two arguments as inputs, X and num_components. X is the data matrix and n_components is the numeber of principal components we want to retain for use in our machine algorithm.\n"
   ]
  },
  {
   "cell_type": "code",
   "execution_count": 9,
   "metadata": {},
   "outputs": [],
   "source": [
    "# import numpy as np\n",
    " \n",
    "def my_PCA(X , num_components):\n",
    "     \n",
    "    #Step-1\n",
    "    X_meaned = X - np.mean(X , axis = 0)\n",
    "     \n",
    "    #Step-2\n",
    "    cov_mat = np.cov(X_meaned , rowvar = False)\n",
    "     \n",
    "    #Step-3\n",
    "    eigen_val , eigen_vec = np.linalg.eigh(cov_mat)\n",
    "     \n",
    "    #Step-4\n",
    "    sorted_index = np.argsort(eigen_val)[::-1]\n",
    "    sorted_eigenval = eigen_val[sorted_index]\n",
    "    sorted_eigenvec = eigen_vec[:,sorted_index]\n",
    "     \n",
    "    #Step-5\n",
    "    eigenvec_subset = sorted_eigenvec[:,0:num_components]\n",
    "     \n",
    "    #Step-6\n",
    "    X_reduced = np.dot(eigenvec_subset.transpose() , X_meaned.transpose() ).transpose()\n",
    "     \n",
    "    return X_reduced"
   ]
  },
  {
   "cell_type": "code",
   "execution_count": null,
   "metadata": {},
   "outputs": [],
   "source": []
  }
 ],
 "metadata": {
  "kernelspec": {
   "display_name": "Python 3",
   "language": "python",
   "name": "python3"
  },
  "language_info": {
   "codemirror_mode": {
    "name": "ipython",
    "version": 3
   },
   "file_extension": ".py",
   "mimetype": "text/x-python",
   "name": "python",
   "nbconvert_exporter": "python",
   "pygments_lexer": "ipython3",
   "version": "3.7.7"
  }
 },
 "nbformat": 4,
 "nbformat_minor": 4
}
